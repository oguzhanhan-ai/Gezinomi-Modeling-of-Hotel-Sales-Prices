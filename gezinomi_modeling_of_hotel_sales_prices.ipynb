{
 "cells": [
  {
   "cell_type": "markdown",
   "id": "ce5cfb92",
   "metadata": {},
   "source": [
    "### Gezinomi - Otel Satış Fiyatlarının Modellenmesi\n",
    "\n",
    "**İş Problemi**\n",
    "\n",
    "Gezinomi'nin gerçekleştirdiği satış verilerini kullanarak, gelecekteki müşterilerin ortalama otel ücretini tahmin etmek istiyoruz.\n",
    "\n",
    "**Örneğin:** İzmir'de yoğun bir dönemde yarım pansiyon bir otele gitmek isteyen bir müşterinin ödeyeceği tahmini ücreti belirlemek istiyoruz.\n",
    "\n",
    "**Veri Seti Hikayesi**\n",
    "\n",
    "**gezinomi_miuul.xslx** veri seti Gezinomi şirketinin yapmış olduğu satışların fiyatlarını ve bu satışlara ait bilgiler içermektedir. Veri seti her bir satış işleminde oluşan kayıtlardan meydana gelmektedir. Bunun anlamı tablolar tekilleştirilmemiştir. Diğer bir ifade ile her bir müşteri birden  fazla kez rezervasyon işlemi yapmış olabilir.\n",
    "\n",
    "**Değişkenler**\n",
    "\n",
    "**SaleID:** Satış id\n",
    "\n",
    "**SaleDate:** Satış Tarihi\n",
    "\n",
    "**CheckInDate:** Müşterinin otele giriş tarihi\n",
    "\n",
    "**Price:** Satış için ödenen fiyat\n",
    "\n",
    "**ConceptName:** Otel konsept bilgisi\n",
    "\n",
    "**SaleCıtyName:** Otelin bulunduğu şehir bilgisi\n",
    "\n",
    "**CInDay:** Müşterinin otele giriş günü\n",
    "\n",
    "**SaleCheckInDayDiff:** Check in ile giriş tarihi gün farkı\n",
    "\n",
    "**Season:** Otele girişindeki sezon bilgisi"
   ]
  },
  {
   "cell_type": "markdown",
   "id": "4f51ba4c",
   "metadata": {},
   "source": [
    "#### Görev 1: Veri Setine Genel Bir Bakış"
   ]
  },
  {
   "cell_type": "markdown",
   "id": "a778b248",
   "metadata": {},
   "source": [
    "**Adım 1:** gezinomi_miuul.xlsx dosyasını okutunuz ve veri seti ile ilgili genel bilgileri gösteriniz."
   ]
  },
  {
   "cell_type": "code",
   "execution_count": 1,
   "id": "c384c882",
   "metadata": {},
   "outputs": [
    {
     "data": {
      "text/html": [
       "<div>\n",
       "<style scoped>\n",
       "    .dataframe tbody tr th:only-of-type {\n",
       "        vertical-align: middle;\n",
       "    }\n",
       "\n",
       "    .dataframe tbody tr th {\n",
       "        vertical-align: top;\n",
       "    }\n",
       "\n",
       "    .dataframe thead th {\n",
       "        text-align: right;\n",
       "    }\n",
       "</style>\n",
       "<table border=\"1\" class=\"dataframe\">\n",
       "  <thead>\n",
       "    <tr style=\"text-align: right;\">\n",
       "      <th></th>\n",
       "      <th>SaleId</th>\n",
       "      <th>SaleDate</th>\n",
       "      <th>CheckInDate</th>\n",
       "      <th>Price</th>\n",
       "      <th>ConceptName</th>\n",
       "      <th>SaleCityName</th>\n",
       "      <th>CInDay</th>\n",
       "      <th>SaleCheckInDayDiff</th>\n",
       "      <th>Seasons</th>\n",
       "    </tr>\n",
       "  </thead>\n",
       "  <tbody>\n",
       "    <tr>\n",
       "      <th>0</th>\n",
       "      <td>415122</td>\n",
       "      <td>2022-12-03</td>\n",
       "      <td>2022-12-03</td>\n",
       "      <td>79.30</td>\n",
       "      <td>Herşey Dahil</td>\n",
       "      <td>Antalya</td>\n",
       "      <td>Saturday</td>\n",
       "      <td>0</td>\n",
       "      <td>Low</td>\n",
       "    </tr>\n",
       "    <tr>\n",
       "      <th>1</th>\n",
       "      <td>415103</td>\n",
       "      <td>2022-12-03</td>\n",
       "      <td>2022-12-03</td>\n",
       "      <td>45.97</td>\n",
       "      <td>Yarım Pansiyon</td>\n",
       "      <td>Antalya</td>\n",
       "      <td>Saturday</td>\n",
       "      <td>0</td>\n",
       "      <td>Low</td>\n",
       "    </tr>\n",
       "    <tr>\n",
       "      <th>2</th>\n",
       "      <td>404034</td>\n",
       "      <td>2022-09-12</td>\n",
       "      <td>2022-09-13</td>\n",
       "      <td>77.84</td>\n",
       "      <td>Herşey Dahil</td>\n",
       "      <td>Antalya</td>\n",
       "      <td>Tuesday</td>\n",
       "      <td>1</td>\n",
       "      <td>High</td>\n",
       "    </tr>\n",
       "    <tr>\n",
       "      <th>3</th>\n",
       "      <td>415094</td>\n",
       "      <td>2022-12-03</td>\n",
       "      <td>2022-12-10</td>\n",
       "      <td>222.71</td>\n",
       "      <td>Yarım Pansiyon</td>\n",
       "      <td>İzmir</td>\n",
       "      <td>Saturday</td>\n",
       "      <td>7</td>\n",
       "      <td>Low</td>\n",
       "    </tr>\n",
       "    <tr>\n",
       "      <th>4</th>\n",
       "      <td>414951</td>\n",
       "      <td>2022-12-01</td>\n",
       "      <td>2022-12-03</td>\n",
       "      <td>140.48</td>\n",
       "      <td>Yarım Pansiyon</td>\n",
       "      <td>İzmir</td>\n",
       "      <td>Saturday</td>\n",
       "      <td>2</td>\n",
       "      <td>Low</td>\n",
       "    </tr>\n",
       "  </tbody>\n",
       "</table>\n",
       "</div>"
      ],
      "text/plain": [
       "   SaleId   SaleDate CheckInDate  Price     ConceptName SaleCityName  \\\n",
       "0  415122 2022-12-03  2022-12-03  79.30    Herşey Dahil      Antalya   \n",
       "1  415103 2022-12-03  2022-12-03  45.97  Yarım Pansiyon      Antalya   \n",
       "2  404034 2022-09-12  2022-09-13  77.84    Herşey Dahil      Antalya   \n",
       "3  415094 2022-12-03  2022-12-10 222.71  Yarım Pansiyon        İzmir   \n",
       "4  414951 2022-12-01  2022-12-03 140.48  Yarım Pansiyon        İzmir   \n",
       "\n",
       "     CInDay  SaleCheckInDayDiff Seasons  \n",
       "0  Saturday                   0     Low  \n",
       "1  Saturday                   0     Low  \n",
       "2   Tuesday                   1    High  \n",
       "3  Saturday                   7     Low  \n",
       "4  Saturday                   2     Low  "
      ]
     },
     "execution_count": 1,
     "metadata": {},
     "output_type": "execute_result"
    }
   ],
   "source": [
    "# Gerekli Kütüphane ve Fonksiyonların Kurulması\n",
    "\n",
    "import numpy as np\n",
    "import pandas as pd\n",
    "import matplotlib.pyplot as plt\n",
    "import seaborn as sns\n",
    "import datetime as dt\n",
    "\n",
    "from sklearn.model_selection import train_test_split\n",
    "from sklearn.linear_model import LinearRegression\n",
    "from sklearn.metrics import mean_absolute_error, mean_squared_error, r2_score\n",
    "from sklearn.decomposition import PCA\n",
    "\n",
    "import warnings\n",
    "warnings.filterwarnings(\"ignore\")\n",
    "\n",
    "pd.set_option(\"display.float_format\", lambda x: '%.2f' % x)\n",
    "\n",
    "gezinomi_data =  pd.read_excel(\"dataset/gezinomi_miuul.xlsx\")\n",
    "\n",
    "df = gezinomi_data.copy()\n",
    "\n",
    "df.head()"
   ]
  },
  {
   "cell_type": "code",
   "execution_count": 2,
   "id": "ee543dc7",
   "metadata": {},
   "outputs": [
    {
     "data": {
      "text/html": [
       "<div>\n",
       "<style scoped>\n",
       "    .dataframe tbody tr th:only-of-type {\n",
       "        vertical-align: middle;\n",
       "    }\n",
       "\n",
       "    .dataframe tbody tr th {\n",
       "        vertical-align: top;\n",
       "    }\n",
       "\n",
       "    .dataframe thead th {\n",
       "        text-align: right;\n",
       "    }\n",
       "</style>\n",
       "<table border=\"1\" class=\"dataframe\">\n",
       "  <thead>\n",
       "    <tr style=\"text-align: right;\">\n",
       "      <th></th>\n",
       "      <th>SaleId</th>\n",
       "      <th>SaleDate</th>\n",
       "      <th>CheckInDate</th>\n",
       "      <th>Price</th>\n",
       "      <th>ConceptName</th>\n",
       "      <th>SaleCityName</th>\n",
       "      <th>CInDay</th>\n",
       "      <th>SaleCheckInDayDiff</th>\n",
       "      <th>Seasons</th>\n",
       "    </tr>\n",
       "  </thead>\n",
       "  <tbody>\n",
       "    <tr>\n",
       "      <th>59159</th>\n",
       "      <td>51817</td>\n",
       "      <td>2016-01-05</td>\n",
       "      <td>2016-10-10</td>\n",
       "      <td>54.30</td>\n",
       "      <td>Herşey Dahil</td>\n",
       "      <td>Antalya</td>\n",
       "      <td>Monday</td>\n",
       "      <td>279</td>\n",
       "      <td>Low</td>\n",
       "    </tr>\n",
       "    <tr>\n",
       "      <th>59160</th>\n",
       "      <td>51816</td>\n",
       "      <td>2016-01-05</td>\n",
       "      <td>2016-10-10</td>\n",
       "      <td>54.30</td>\n",
       "      <td>Herşey Dahil</td>\n",
       "      <td>Antalya</td>\n",
       "      <td>Monday</td>\n",
       "      <td>279</td>\n",
       "      <td>Low</td>\n",
       "    </tr>\n",
       "    <tr>\n",
       "      <th>59161</th>\n",
       "      <td>51814</td>\n",
       "      <td>2016-01-05</td>\n",
       "      <td>2016-01-06</td>\n",
       "      <td>40.56</td>\n",
       "      <td>Herşey Dahil</td>\n",
       "      <td>Diğer</td>\n",
       "      <td>Wednesday</td>\n",
       "      <td>1</td>\n",
       "      <td>Low</td>\n",
       "    </tr>\n",
       "    <tr>\n",
       "      <th>59162</th>\n",
       "      <td>51736</td>\n",
       "      <td>2016-01-04</td>\n",
       "      <td>2016-01-05</td>\n",
       "      <td>69.85</td>\n",
       "      <td>Yarım Pansiyon</td>\n",
       "      <td>Diğer</td>\n",
       "      <td>Tuesday</td>\n",
       "      <td>1</td>\n",
       "      <td>Low</td>\n",
       "    </tr>\n",
       "    <tr>\n",
       "      <th>59163</th>\n",
       "      <td>51731</td>\n",
       "      <td>2016-01-04</td>\n",
       "      <td>2016-08-22</td>\n",
       "      <td>158.94</td>\n",
       "      <td>Herşey Dahil</td>\n",
       "      <td>Antalya</td>\n",
       "      <td>Monday</td>\n",
       "      <td>231</td>\n",
       "      <td>High</td>\n",
       "    </tr>\n",
       "  </tbody>\n",
       "</table>\n",
       "</div>"
      ],
      "text/plain": [
       "       SaleId   SaleDate CheckInDate  Price     ConceptName SaleCityName  \\\n",
       "59159   51817 2016-01-05  2016-10-10  54.30    Herşey Dahil      Antalya   \n",
       "59160   51816 2016-01-05  2016-10-10  54.30    Herşey Dahil      Antalya   \n",
       "59161   51814 2016-01-05  2016-01-06  40.56    Herşey Dahil        Diğer   \n",
       "59162   51736 2016-01-04  2016-01-05  69.85  Yarım Pansiyon        Diğer   \n",
       "59163   51731 2016-01-04  2016-08-22 158.94    Herşey Dahil      Antalya   \n",
       "\n",
       "          CInDay  SaleCheckInDayDiff Seasons  \n",
       "59159     Monday                 279     Low  \n",
       "59160     Monday                 279     Low  \n",
       "59161  Wednesday                   1     Low  \n",
       "59162    Tuesday                   1     Low  \n",
       "59163     Monday                 231    High  "
      ]
     },
     "execution_count": 2,
     "metadata": {},
     "output_type": "execute_result"
    }
   ],
   "source": [
    "df.tail()"
   ]
  },
  {
   "cell_type": "code",
   "execution_count": 3,
   "id": "5b19d135",
   "metadata": {},
   "outputs": [
    {
     "data": {
      "text/plain": [
       "(59164, 9)"
      ]
     },
     "execution_count": 3,
     "metadata": {},
     "output_type": "execute_result"
    }
   ],
   "source": [
    "df.shape"
   ]
  },
  {
   "cell_type": "code",
   "execution_count": 4,
   "id": "3be21a3d",
   "metadata": {},
   "outputs": [
    {
     "data": {
      "text/plain": [
       "Index(['SaleId', 'SaleDate', 'CheckInDate', 'Price', 'ConceptName',\n",
       "       'SaleCityName', 'CInDay', 'SaleCheckInDayDiff', 'Seasons'],\n",
       "      dtype='object')"
      ]
     },
     "execution_count": 4,
     "metadata": {},
     "output_type": "execute_result"
    }
   ],
   "source": [
    "df.columns"
   ]
  },
  {
   "cell_type": "code",
   "execution_count": 5,
   "id": "e92b2c0c",
   "metadata": {},
   "outputs": [
    {
     "name": "stdout",
     "output_type": "stream",
     "text": [
      "<class 'pandas.core.frame.DataFrame'>\n",
      "RangeIndex: 59164 entries, 0 to 59163\n",
      "Data columns (total 9 columns):\n",
      " #   Column              Non-Null Count  Dtype         \n",
      "---  ------              --------------  -----         \n",
      " 0   SaleId              59164 non-null  int64         \n",
      " 1   SaleDate            59164 non-null  datetime64[ns]\n",
      " 2   CheckInDate         59164 non-null  datetime64[ns]\n",
      " 3   Price               59151 non-null  float64       \n",
      " 4   ConceptName         59164 non-null  object        \n",
      " 5   SaleCityName        59164 non-null  object        \n",
      " 6   CInDay              59164 non-null  object        \n",
      " 7   SaleCheckInDayDiff  59164 non-null  int64         \n",
      " 8   Seasons             59164 non-null  object        \n",
      "dtypes: datetime64[ns](2), float64(1), int64(2), object(4)\n",
      "memory usage: 4.1+ MB\n"
     ]
    }
   ],
   "source": [
    "df.info()"
   ]
  },
  {
   "cell_type": "code",
   "execution_count": 6,
   "id": "78d069f1",
   "metadata": {},
   "outputs": [
    {
     "data": {
      "text/plain": [
       "SaleId                 0\n",
       "SaleDate               0\n",
       "CheckInDate            0\n",
       "Price                 13\n",
       "ConceptName            0\n",
       "SaleCityName           0\n",
       "CInDay                 0\n",
       "SaleCheckInDayDiff     0\n",
       "Seasons                0\n",
       "dtype: int64"
      ]
     },
     "execution_count": 6,
     "metadata": {},
     "output_type": "execute_result"
    }
   ],
   "source": [
    "df.isnull().sum()"
   ]
  },
  {
   "cell_type": "code",
   "execution_count": 7,
   "id": "793ca35b",
   "metadata": {},
   "outputs": [
    {
     "data": {
      "text/html": [
       "<div>\n",
       "<style scoped>\n",
       "    .dataframe tbody tr th:only-of-type {\n",
       "        vertical-align: middle;\n",
       "    }\n",
       "\n",
       "    .dataframe tbody tr th {\n",
       "        vertical-align: top;\n",
       "    }\n",
       "\n",
       "    .dataframe thead th {\n",
       "        text-align: right;\n",
       "    }\n",
       "</style>\n",
       "<table border=\"1\" class=\"dataframe\">\n",
       "  <thead>\n",
       "    <tr style=\"text-align: right;\">\n",
       "      <th></th>\n",
       "      <th>count</th>\n",
       "      <th>mean</th>\n",
       "      <th>min</th>\n",
       "      <th>25%</th>\n",
       "      <th>50%</th>\n",
       "      <th>75%</th>\n",
       "      <th>max</th>\n",
       "      <th>std</th>\n",
       "    </tr>\n",
       "  </thead>\n",
       "  <tbody>\n",
       "    <tr>\n",
       "      <th>SaleId</th>\n",
       "      <td>59164.00</td>\n",
       "      <td>302675.80</td>\n",
       "      <td>51707.00</td>\n",
       "      <td>274038.50</td>\n",
       "      <td>321607.00</td>\n",
       "      <td>367373.00</td>\n",
       "      <td>415122.00</td>\n",
       "      <td>87943.22</td>\n",
       "    </tr>\n",
       "    <tr>\n",
       "      <th>SaleDate</th>\n",
       "      <td>59164</td>\n",
       "      <td>2021-02-11 17:13:11.751740928</td>\n",
       "      <td>2016-01-02 00:00:00</td>\n",
       "      <td>2020-08-19 00:00:00</td>\n",
       "      <td>2021-07-28 00:00:00</td>\n",
       "      <td>2022-05-10 00:00:00</td>\n",
       "      <td>2022-12-03 00:00:00</td>\n",
       "      <td>NaN</td>\n",
       "    </tr>\n",
       "    <tr>\n",
       "      <th>CheckInDate</th>\n",
       "      <td>59164</td>\n",
       "      <td>2021-03-15 11:23:01.732134400</td>\n",
       "      <td>2007-07-20 00:00:00</td>\n",
       "      <td>2020-08-24 00:00:00</td>\n",
       "      <td>2021-08-16 00:00:00</td>\n",
       "      <td>2022-07-04 00:00:00</td>\n",
       "      <td>2023-08-16 00:00:00</td>\n",
       "      <td>NaN</td>\n",
       "    </tr>\n",
       "    <tr>\n",
       "      <th>Price</th>\n",
       "      <td>59151.00</td>\n",
       "      <td>61.35</td>\n",
       "      <td>0.00</td>\n",
       "      <td>35.34</td>\n",
       "      <td>54.26</td>\n",
       "      <td>77.96</td>\n",
       "      <td>4880.47</td>\n",
       "      <td>51.38</td>\n",
       "    </tr>\n",
       "    <tr>\n",
       "      <th>SaleCheckInDayDiff</th>\n",
       "      <td>59164.00</td>\n",
       "      <td>31.84</td>\n",
       "      <td>0.00</td>\n",
       "      <td>2.00</td>\n",
       "      <td>10.00</td>\n",
       "      <td>34.00</td>\n",
       "      <td>630.00</td>\n",
       "      <td>51.49</td>\n",
       "    </tr>\n",
       "  </tbody>\n",
       "</table>\n",
       "</div>"
      ],
      "text/plain": [
       "                      count                           mean  \\\n",
       "SaleId             59164.00                      302675.80   \n",
       "SaleDate              59164  2021-02-11 17:13:11.751740928   \n",
       "CheckInDate           59164  2021-03-15 11:23:01.732134400   \n",
       "Price              59151.00                          61.35   \n",
       "SaleCheckInDayDiff 59164.00                          31.84   \n",
       "\n",
       "                                    min                  25%  \\\n",
       "SaleId                         51707.00            274038.50   \n",
       "SaleDate            2016-01-02 00:00:00  2020-08-19 00:00:00   \n",
       "CheckInDate         2007-07-20 00:00:00  2020-08-24 00:00:00   \n",
       "Price                              0.00                35.34   \n",
       "SaleCheckInDayDiff                 0.00                 2.00   \n",
       "\n",
       "                                    50%                  75%  \\\n",
       "SaleId                        321607.00            367373.00   \n",
       "SaleDate            2021-07-28 00:00:00  2022-05-10 00:00:00   \n",
       "CheckInDate         2021-08-16 00:00:00  2022-07-04 00:00:00   \n",
       "Price                             54.26                77.96   \n",
       "SaleCheckInDayDiff                10.00                34.00   \n",
       "\n",
       "                                    max      std  \n",
       "SaleId                        415122.00 87943.22  \n",
       "SaleDate            2022-12-03 00:00:00      NaN  \n",
       "CheckInDate         2023-08-16 00:00:00      NaN  \n",
       "Price                           4880.47    51.38  \n",
       "SaleCheckInDayDiff               630.00    51.49  "
      ]
     },
     "execution_count": 7,
     "metadata": {},
     "output_type": "execute_result"
    }
   ],
   "source": [
    "df.describe().T"
   ]
  },
  {
   "cell_type": "markdown",
   "id": "b30831f0",
   "metadata": {},
   "source": [
    "**Adım 2:** Boş değerlerin sayısı ile veri setinin büyüklüğünü kıyaslayın. Veri setinde önemli bir bilgi kaybı olmayacağı bir durum ise boş değerlerin bulunduğu gözlem birimlerini silin. "
   ]
  },
  {
   "cell_type": "code",
   "execution_count": 8,
   "id": "1134643b",
   "metadata": {},
   "outputs": [
    {
     "data": {
      "text/plain": [
       "SaleId                0\n",
       "SaleDate              0\n",
       "CheckInDate           0\n",
       "Price                 0\n",
       "ConceptName           0\n",
       "SaleCityName          0\n",
       "CInDay                0\n",
       "SaleCheckInDayDiff    0\n",
       "Seasons               0\n",
       "dtype: int64"
      ]
     },
     "execution_count": 8,
     "metadata": {},
     "output_type": "execute_result"
    }
   ],
   "source": [
    "df.dropna(inplace = True)\n",
    "\n",
    "df.isnull().sum()"
   ]
  },
  {
   "cell_type": "markdown",
   "id": "0ecfa4c9",
   "metadata": {},
   "source": [
    "#### Görev 2: Özellik Mühendisliği"
   ]
  },
  {
   "cell_type": "markdown",
   "id": "7172ffb6",
   "metadata": {},
   "source": [
    "**Adım 1:** Check-in tarihini kullanarak aşağıdaki değişkenleri türetiniz:\n",
    "\n",
    "\"CheckInYear:\" Check-in yapıldığı yıl\n",
    "\n",
    "\"CheckInMonth:\" Check-in yapıldığı ay\n",
    "\n",
    "\"CheckInDay:\" Check-in yapıldığı gün\n",
    "\n",
    "\"CheckInWeekday:\" Check-in yapıldığı gün haftanın kaçıncı günü\n",
    "\n",
    "\"IsWeekend:\" Check-in yapıldığı günün hafta sonu olup olmadığı\n",
    "\n",
    "\"HolidayTypes:\" Verisetindeki check-in yapılan en eski tarih ile en yeni tarih arasındaki Türkiye'deki resmi tatiller. Örneğin, 2016-08-30-Zafer Bayramı, 2022-07-09-Kurban Bayramı"
   ]
  },
  {
   "cell_type": "code",
   "execution_count": 9,
   "id": "bdd1dbca",
   "metadata": {},
   "outputs": [],
   "source": [
    "# CheckInDate'den özellikler Çıkarma\n",
    "\n",
    "df[\"CheckInYear\"]    = df[\"CheckInDate\"].dt.year\n",
    "df[\"CheckInMonth\"]   = df[\"CheckInDate\"].dt.month\n",
    "df[\"CheckInDay\"]     = df[\"CheckInDate\"].dt.day\n",
    "df[\"CheckInWeekday\"] = df[\"CheckInDate\"].dt.dayofweek\n",
    "\n",
    "# Günün hafta sonu olup olmadığının kontrolü\n",
    "\n",
    "df[\"IsWeekend\"] = np.where(df[\"CheckInWeekday\"] >= 5, 1, 0)\n"
   ]
  },
  {
   "cell_type": "code",
   "execution_count": 10,
   "id": "d9d9e4b4",
   "metadata": {},
   "outputs": [],
   "source": [
    "# Tatil tarihlerini tanımlama\n",
    "\n",
    "holiday_types = {\"Yılbaşı\"  : [\"2016-01-01\", \"2017-01-01\", \"2018-01-01\", \"2019-01-01\", \"2020-01-01\", \"2021-01-01\", \"2022-01-01\"],\n",
    "                \"23 Nisan\"  : [\"2016-04-23\", \"2017-04-23\", \"2018-04-23\", \"2019-04-23\", \"2020-04-23\", \"2021-04-23\", \"2022-04-23\"],\n",
    "                \"1 Mayıs\"   : [\"2016-05-01\", \"2017-05-01\", \"2018-05-01\", \"2019-05-01\", \"2020-05-01\", \"2021-05-01\", \"2022-05-01\"],\n",
    "                \"19 Mayıs\"  : [\"2016-05-19\", \"2017-05-19\", \"2018-05-19\", \"2019-05-19\", \"2020-05-19\", \"2021-05-19\", \"2022-05-19\"],\n",
    "                \"30 Ağustos\": [\"2016-08-30\", \"2017-08-30\", \"2018-08-30\", \"2019-08-30\", \"2020-08-30\", \"2021-08-30\", \"2022-08-30\"],\n",
    "                \"29 Ekim\"   : [\"2016-10-29\", \"2017-10-29\", \"2018-10-30\", \"2019-10-30\", \"2020-10-30\", \"2021-10-30\", \"2022-10-30\"],\n",
    "                \n",
    "                 \"Ramazan\"  : [(\"2016-07-05\", \"2016-07-06\", \"2016-07-07\"),\n",
    "                               (\"2017-06-25\", \"2017-06-26\", \"2017-06-27\"),\n",
    "                               (\"2018-06-14\", \"2018-06-15\", \"2018-06-16\"),\n",
    "                               (\"2019-06-04\", \"2019-06-05\", \"2019-06-16\"),\n",
    "                               (\"2020-06-24\", \"2020-06-25\", \"2020-06-26\"),\n",
    "                               (\"2021-05-13\", \"2021-05-14\", \"2021-05-15\"),\n",
    "                               (\"2022-05-02\", \"2022-05-03\", \"2022-05-04\")],\n",
    "                 \n",
    "                 \"Kurban\"   : [(\"2016-09-12\", \"2016-09-13\", \"2016-09-14\", \"2016-09-15\"),\n",
    "                               (\"2017-09-01\", \"2017-09-02\", \"2017-09-03\", \"2017-09-04\"),\n",
    "                               (\"2018-08-21\", \"2018-08-22\", \"2018-08-23\", \"2018-08-24\"),\n",
    "                               (\"2019-08-11\", \"2019-08-12\", \"2019-08-13\", \"2019-08-14\"),\n",
    "                               (\"2020-07-31\", \"2020-08-01\", \"2020-08-02\", \"2020-09-03\"),\n",
    "                               (\"2021-07-20\", \"2021-07-21\", \"2021-07-22\", \"2021-07-23\"),\n",
    "                               (\"2022-07-09\", \"2022-07-10\", \"2022-07-11\", \"2022-07-12\")]}"
   ]
  },
  {
   "cell_type": "code",
   "execution_count": 11,
   "id": "a48903ea",
   "metadata": {},
   "outputs": [],
   "source": [
    "# Veri kümesindeki tatilleri işaretleme\n",
    "\n",
    "df[\"HolidayType\"] = \"weekday\"\n",
    "\n",
    "for holiday, dates in holiday_types.items():\n",
    "    for date_range in dates:\n",
    "        if isinstance(date_range, tuple):\n",
    "            for date in date_range:\n",
    "                df.loc[df[\"CheckInDate\"] == date, \"HolidayType\"] = holiday\n",
    "        else:\n",
    "            df.loc[df[\"CheckInDate\"]== date_range, \"HolidayType\"] = holiday"
   ]
  },
  {
   "cell_type": "markdown",
   "id": "00fac58b",
   "metadata": {},
   "source": [
    "**Adım 2:** Satış ile Check-in tarihleri arasındaki farkı ele alarak \"CustomerType\" isimli bir değişken oluşturunuz. \"SaleCheckInDayDiff\" değişkeni, müşterinin Check-in tarihinden ne kadar önce satın alınımını tamamladığını gösterir. Aralıkları aşağıdaki gibi oluşturabilirsiniz:\n",
    "\n",
    "Örneğin, **'0_7', 7_30', '30-90', '90_max'** gibi aralıkları kullanabilirsiniz. Bu aralıklar için **\"Last Minuters\", \"Potential Planners\", \"Planners\", \"Early Bookers\"** gibi isimleri kullanabilirsiniz.\n"
   ]
  },
  {
   "cell_type": "code",
   "execution_count": 12,
   "id": "ead4c1a4",
   "metadata": {},
   "outputs": [],
   "source": [
    "# Müşteri türü için aralıkları tanımlama\n",
    "\n",
    "bins = [-1, 7, 30, 90, df[\"SaleCheckInDayDiff\"].max()]\n",
    "\n",
    "# Müşteri türü için etiketleri tanımlama\n",
    "\n",
    "labels = [\"Son Dakika Rezervasyoncuları\", \"Potansiyel Planlayıcılar\", \"Planlayıcılar\", \"Erken Rezervasyon Yapanlar\"]\n",
    "\n",
    "# Rezervasyon günlerine göre müşterileri kategorize edelim\n",
    "\n",
    "df[\"CustomerType\"] = pd.cut(df[\"SaleCheckInDayDiff\"], bins = bins, labels = labels)"
   ]
  },
  {
   "cell_type": "code",
   "execution_count": 13,
   "id": "f877a13c",
   "metadata": {},
   "outputs": [
    {
     "data": {
      "text/html": [
       "<div>\n",
       "<style scoped>\n",
       "    .dataframe tbody tr th:only-of-type {\n",
       "        vertical-align: middle;\n",
       "    }\n",
       "\n",
       "    .dataframe tbody tr th {\n",
       "        vertical-align: top;\n",
       "    }\n",
       "\n",
       "    .dataframe thead th {\n",
       "        text-align: right;\n",
       "    }\n",
       "</style>\n",
       "<table border=\"1\" class=\"dataframe\">\n",
       "  <thead>\n",
       "    <tr style=\"text-align: right;\">\n",
       "      <th></th>\n",
       "      <th>SaleId</th>\n",
       "      <th>SaleDate</th>\n",
       "      <th>CheckInDate</th>\n",
       "      <th>Price</th>\n",
       "      <th>ConceptName</th>\n",
       "      <th>SaleCityName</th>\n",
       "      <th>CInDay</th>\n",
       "      <th>SaleCheckInDayDiff</th>\n",
       "      <th>Seasons</th>\n",
       "      <th>CheckInYear</th>\n",
       "      <th>CheckInMonth</th>\n",
       "      <th>CheckInDay</th>\n",
       "      <th>CheckInWeekday</th>\n",
       "      <th>IsWeekend</th>\n",
       "      <th>HolidayType</th>\n",
       "      <th>CustomerType</th>\n",
       "    </tr>\n",
       "  </thead>\n",
       "  <tbody>\n",
       "    <tr>\n",
       "      <th>0</th>\n",
       "      <td>415122</td>\n",
       "      <td>2022-12-03</td>\n",
       "      <td>2022-12-03</td>\n",
       "      <td>79.30</td>\n",
       "      <td>Herşey Dahil</td>\n",
       "      <td>Antalya</td>\n",
       "      <td>Saturday</td>\n",
       "      <td>0</td>\n",
       "      <td>Low</td>\n",
       "      <td>2022</td>\n",
       "      <td>12</td>\n",
       "      <td>3</td>\n",
       "      <td>5</td>\n",
       "      <td>1</td>\n",
       "      <td>weekday</td>\n",
       "      <td>Son Dakika Rezervasyoncuları</td>\n",
       "    </tr>\n",
       "    <tr>\n",
       "      <th>1</th>\n",
       "      <td>415103</td>\n",
       "      <td>2022-12-03</td>\n",
       "      <td>2022-12-03</td>\n",
       "      <td>45.97</td>\n",
       "      <td>Yarım Pansiyon</td>\n",
       "      <td>Antalya</td>\n",
       "      <td>Saturday</td>\n",
       "      <td>0</td>\n",
       "      <td>Low</td>\n",
       "      <td>2022</td>\n",
       "      <td>12</td>\n",
       "      <td>3</td>\n",
       "      <td>5</td>\n",
       "      <td>1</td>\n",
       "      <td>weekday</td>\n",
       "      <td>Son Dakika Rezervasyoncuları</td>\n",
       "    </tr>\n",
       "    <tr>\n",
       "      <th>2</th>\n",
       "      <td>404034</td>\n",
       "      <td>2022-09-12</td>\n",
       "      <td>2022-09-13</td>\n",
       "      <td>77.84</td>\n",
       "      <td>Herşey Dahil</td>\n",
       "      <td>Antalya</td>\n",
       "      <td>Tuesday</td>\n",
       "      <td>1</td>\n",
       "      <td>High</td>\n",
       "      <td>2022</td>\n",
       "      <td>9</td>\n",
       "      <td>13</td>\n",
       "      <td>1</td>\n",
       "      <td>0</td>\n",
       "      <td>weekday</td>\n",
       "      <td>Son Dakika Rezervasyoncuları</td>\n",
       "    </tr>\n",
       "    <tr>\n",
       "      <th>3</th>\n",
       "      <td>415094</td>\n",
       "      <td>2022-12-03</td>\n",
       "      <td>2022-12-10</td>\n",
       "      <td>222.71</td>\n",
       "      <td>Yarım Pansiyon</td>\n",
       "      <td>İzmir</td>\n",
       "      <td>Saturday</td>\n",
       "      <td>7</td>\n",
       "      <td>Low</td>\n",
       "      <td>2022</td>\n",
       "      <td>12</td>\n",
       "      <td>10</td>\n",
       "      <td>5</td>\n",
       "      <td>1</td>\n",
       "      <td>weekday</td>\n",
       "      <td>Son Dakika Rezervasyoncuları</td>\n",
       "    </tr>\n",
       "    <tr>\n",
       "      <th>4</th>\n",
       "      <td>414951</td>\n",
       "      <td>2022-12-01</td>\n",
       "      <td>2022-12-03</td>\n",
       "      <td>140.48</td>\n",
       "      <td>Yarım Pansiyon</td>\n",
       "      <td>İzmir</td>\n",
       "      <td>Saturday</td>\n",
       "      <td>2</td>\n",
       "      <td>Low</td>\n",
       "      <td>2022</td>\n",
       "      <td>12</td>\n",
       "      <td>3</td>\n",
       "      <td>5</td>\n",
       "      <td>1</td>\n",
       "      <td>weekday</td>\n",
       "      <td>Son Dakika Rezervasyoncuları</td>\n",
       "    </tr>\n",
       "  </tbody>\n",
       "</table>\n",
       "</div>"
      ],
      "text/plain": [
       "   SaleId   SaleDate CheckInDate  Price     ConceptName SaleCityName  \\\n",
       "0  415122 2022-12-03  2022-12-03  79.30    Herşey Dahil      Antalya   \n",
       "1  415103 2022-12-03  2022-12-03  45.97  Yarım Pansiyon      Antalya   \n",
       "2  404034 2022-09-12  2022-09-13  77.84    Herşey Dahil      Antalya   \n",
       "3  415094 2022-12-03  2022-12-10 222.71  Yarım Pansiyon        İzmir   \n",
       "4  414951 2022-12-01  2022-12-03 140.48  Yarım Pansiyon        İzmir   \n",
       "\n",
       "     CInDay  SaleCheckInDayDiff Seasons  CheckInYear  CheckInMonth  \\\n",
       "0  Saturday                   0     Low         2022            12   \n",
       "1  Saturday                   0     Low         2022            12   \n",
       "2   Tuesday                   1    High         2022             9   \n",
       "3  Saturday                   7     Low         2022            12   \n",
       "4  Saturday                   2     Low         2022            12   \n",
       "\n",
       "   CheckInDay  CheckInWeekday  IsWeekend HolidayType  \\\n",
       "0           3               5          1     weekday   \n",
       "1           3               5          1     weekday   \n",
       "2          13               1          0     weekday   \n",
       "3          10               5          1     weekday   \n",
       "4           3               5          1     weekday   \n",
       "\n",
       "                   CustomerType  \n",
       "0  Son Dakika Rezervasyoncuları  \n",
       "1  Son Dakika Rezervasyoncuları  \n",
       "2  Son Dakika Rezervasyoncuları  \n",
       "3  Son Dakika Rezervasyoncuları  \n",
       "4  Son Dakika Rezervasyoncuları  "
      ]
     },
     "execution_count": 13,
     "metadata": {},
     "output_type": "execute_result"
    }
   ],
   "source": [
    "df.head()"
   ]
  },
  {
   "cell_type": "code",
   "execution_count": 14,
   "id": "280abcbd",
   "metadata": {},
   "outputs": [
    {
     "data": {
      "text/plain": [
       "(59151, 16)"
      ]
     },
     "execution_count": 14,
     "metadata": {},
     "output_type": "execute_result"
    }
   ],
   "source": [
    "df.shape"
   ]
  },
  {
   "cell_type": "markdown",
   "id": "8b8dac59",
   "metadata": {},
   "source": [
    "**Adım 3:** Kategorik değişkenler olan **'ConceptName', 'SaleCityName', 'CInDay', 'Seasons', 'HolidayType'** ve **CustomerType'** için one-hot encoding işlemi uygulayınız. "
   ]
  },
  {
   "cell_type": "code",
   "execution_count": 15,
   "id": "888f94f7",
   "metadata": {},
   "outputs": [],
   "source": [
    "df = pd.get_dummies(df, columns = ['ConceptName', 'SaleCityName', 'CInDay', 'Seasons', 'HolidayType', 'CustomerType'])"
   ]
  },
  {
   "cell_type": "markdown",
   "id": "1334d8d6",
   "metadata": {},
   "source": [
    "#### Görev 3: PCA ile Boyut Azaltma"
   ]
  },
  {
   "cell_type": "markdown",
   "id": "83b21643",
   "metadata": {},
   "source": [
    "**Adım 1:** Hedef değişken olan **'Price'** ile bağımsız değişkenleri ayırın."
   ]
  },
  {
   "cell_type": "code",
   "execution_count": 16,
   "id": "6d799389",
   "metadata": {},
   "outputs": [],
   "source": [
    "# Özellikleri ve kategorik değişkenleri hazırlama\n",
    "\n",
    "X = df.drop([\"Price\", \"SaleId\", \"SaleDate\", \"CheckInDate\"], axis = 1)\n",
    "\n",
    "y = df[\"Price\"]"
   ]
  },
  {
   "cell_type": "markdown",
   "id": "38596e0a",
   "metadata": {},
   "source": [
    "**Adım 2:** Boyut azaltma işlemi için **'sklearn.decomposition'** modülündeki PCA fonksiyonunu kullanın ve Principal Component sayısını **5** olarak belirleyiniz."
   ]
  },
  {
   "cell_type": "markdown",
   "id": "9a80d679",
   "metadata": {},
   "source": [
    "**Adım 3:** Boyutu azaltılmış veriyi DataFrame veri tipine dönüştürünüz."
   ]
  },
  {
   "cell_type": "code",
   "execution_count": 17,
   "id": "d083b546",
   "metadata": {},
   "outputs": [],
   "source": [
    "# PCA model oluşturma\n",
    "\n",
    "pca = PCA(n_components = 5)\n",
    "\n",
    "# Modeli fit etme\n",
    "\n",
    "X_new = pca.fit_transform(X)\n",
    "\n",
    "# Düşük boyutlu temsil edilen veriyi DataFrame'e dönüştürme\n",
    "\n",
    "X_dimensional_reduced = pd.DataFrame(X_new)"
   ]
  },
  {
   "cell_type": "markdown",
   "id": "8e7fbea8",
   "metadata": {},
   "source": [
    "#### Görev 4: Lineer Regresyon Modeli Kurma"
   ]
  },
  {
   "cell_type": "markdown",
   "id": "8fed16e3",
   "metadata": {},
   "source": [
    "**Adım 1:** Veriyi **'train_test_split'** fonksiyonunu kullanarak train ve test setlerine ayırınız. Test veri setinin boyutunu %20 olarak belirleyiniz."
   ]
  },
  {
   "cell_type": "markdown",
   "id": "1a27e4fc",
   "metadata": {},
   "source": [
    "**Adım 2:** **'sklearn.linear_model'** modülündeki 'LinearRegression' fonksiyonunu kullanarak modeli kurunuz ve eğitim seti için modele uydurunuz."
   ]
  },
  {
   "cell_type": "markdown",
   "id": "88fed560",
   "metadata": {},
   "source": [
    "**Adım 3:** Test setini kullanarak tahminler yapın ve modelin başarısını **MSE, MAE, R2** gibi metriklerle değerlendiriniz."
   ]
  },
  {
   "cell_type": "code",
   "execution_count": 18,
   "id": "61b1ec48",
   "metadata": {},
   "outputs": [],
   "source": [
    "# Veriyi eğitim ve test veri kümelerine ayırma\n",
    "\n",
    "X_train, X_test, y_train, y_test = train_test_split(X_dimensional_reduced, y, test_size = 0.2, random_state = 42)\n",
    "\n",
    "# Modeli başlatma ve eğitme\n",
    "\n",
    "model = LinearRegression()\n",
    "model.fit(X_train, y_train)\n",
    "\n",
    "# Tahminler Yapma\n",
    "\n",
    "y_pred = model.predict(X_test)"
   ]
  },
  {
   "cell_type": "markdown",
   "id": "5477bb9c",
   "metadata": {},
   "source": [
    "**Adım 4:** Modelin katsayılarını ekrana yazdırın."
   ]
  },
  {
   "cell_type": "code",
   "execution_count": 19,
   "id": "2468c47b",
   "metadata": {},
   "outputs": [
    {
     "name": "stdout",
     "output_type": "stream",
     "text": [
      "Mean Squared Error: 2686.7106775945367\n",
      "Mean Absolute Error: 26.57458189373316\n",
      "R^2 Score: 0.013357567952517302\n"
     ]
    }
   ],
   "source": [
    "print(\"Mean Squared Error:\", mean_squared_error(y_test, y_pred))\n",
    "print(\"Mean Absolute Error:\", mean_absolute_error(y_test, y_pred))\n",
    "print(\"R^2 Score:\", r2_score(y_test, y_pred))"
   ]
  },
  {
   "cell_type": "markdown",
   "id": "6a0e5eae",
   "metadata": {},
   "source": [
    "**Adım 5:** Derslerde öğrendiğimiz **\"en_kucuk_kareler_yontemi\"** adlı fonksiyonu kullanarak modelin katsayılarını yeniden hesaplayın ve **LinearRegression** hazır fonksiyonu ile elde ettiğiniz katsayıları karşılaştırın. "
   ]
  },
  {
   "cell_type": "code",
   "execution_count": null,
   "id": "38348921",
   "metadata": {},
   "outputs": [],
   "source": []
  }
 ],
 "metadata": {
  "kernelspec": {
   "display_name": "Python 3 (ipykernel)",
   "language": "python",
   "name": "python3"
  },
  "language_info": {
   "codemirror_mode": {
    "name": "ipython",
    "version": 3
   },
   "file_extension": ".py",
   "mimetype": "text/x-python",
   "name": "python",
   "nbconvert_exporter": "python",
   "pygments_lexer": "ipython3",
   "version": "3.11.3"
  }
 },
 "nbformat": 4,
 "nbformat_minor": 5
}
